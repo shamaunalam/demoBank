{
 "cells": [
  {
   "cell_type": "code",
   "execution_count": 1,
   "metadata": {},
   "outputs": [],
   "source": [
    "import sqlite3 as sql"
   ]
  },
  {
   "cell_type": "code",
   "execution_count": 9,
   "metadata": {},
   "outputs": [],
   "source": [
    "con = sql.connect('demobank.db')\n",
    "\n",
    "query = \"\"\"CREATE TABLE customer_details(cust_Id TEXT PRIMARY KEY,\n",
    "cust_name TEXT NOT NULL,cust_Account_num TEXT, cust_email TEXT, cust_phone INTEGER, cust_password TEXT,\n",
    "cust_dob TEXT,cust_balance TEXT)\"\"\"\n",
    "\n",
    "con.execute(query)\n",
    "\n",
    "con.commit()\n",
    "con.close()"
   ]
  },
  {
   "cell_type": "code",
   "execution_count": 3,
   "metadata": {},
   "outputs": [],
   "source": [
    "con = sql.connect('demobank.db')\n",
    "\n",
    "query = \"\"\"CREATE TABLE employee_details(emp_Id TEXT PRIMARY KEY,\n",
    "emp_name TEXT NOT NULL, emp_phone INTEGER, emp_password TEXT,\n",
    "emp_type TEXT DEFAULT 'staff')\"\"\"\n",
    "\n",
    "con.execute(query)\n",
    "\n",
    "con.commit()\n",
    "con.close()"
   ]
  },
  {
   "cell_type": "code",
   "execution_count": 8,
   "metadata": {},
   "outputs": [],
   "source": [
    "con = sql.connect('demobank.db')\n",
    "\n",
    "query = \"\"\"DROP TABLE customer_details\"\"\"\n",
    "\n",
    "con.execute(query)\n",
    "\n",
    "con.commit()\n",
    "con.close()"
   ]
  },
  {
   "cell_type": "code",
   "execution_count": null,
   "metadata": {},
   "outputs": [],
   "source": []
  }
 ],
 "metadata": {
  "kernelspec": {
   "display_name": "Python 3",
   "language": "python",
   "name": "python3"
  },
  "language_info": {
   "codemirror_mode": {
    "name": "ipython",
    "version": 3
   },
   "file_extension": ".py",
   "mimetype": "text/x-python",
   "name": "python",
   "nbconvert_exporter": "python",
   "pygments_lexer": "ipython3",
   "version": "3.7.3"
  }
 },
 "nbformat": 4,
 "nbformat_minor": 2
}

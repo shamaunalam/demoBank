{
 "cells": [
  {
   "cell_type": "code",
   "execution_count": 1,
   "metadata": {},
   "outputs": [],
   "source": [
    "from PyQt5 import QtWidgets,uic\n",
    "import sqlite3 as sql"
   ]
  },
  {
   "cell_type": "code",
   "execution_count": 2,
   "metadata": {},
   "outputs": [],
   "source": [
    "def login():\n",
    "    \n",
    "    phone = homePage.usernameEnter.text()\n",
    "    password = homePage.passwordEnter.text()\n",
    "    \n",
    "    con = sql.connect('demobank.db')\n",
    "    \n",
    "    query = \"\"\"SELECT cust_name,cust_Account_num,cust_email,cust_balance\n",
    "            FROM customer_details WHERE cust_phone = ? AND cust_password = ?\"\"\"\n",
    "    \n",
    "    ret = con.execute(query,(phone,password))\n",
    "    \n",
    "    ret = ret.fetchall()\n",
    "    \n",
    "    if len(ret)>0:\n",
    "        homePage.close()\n",
    "        custDashboard.welcome.setText('Welcome,'+ret[0][0])\n",
    "        custDashboard.info.setText('''\n",
    "        Account num : {}\n",
    "        Balance : {}'''.format(ret[0][1],ret[0][3]))\n",
    "        custDashboard.show()\n",
    "    else:\n",
    "        homePage.message.setText('invalid phone or password')\n",
    "        homePage.usernameEnter.setText('')\n",
    "        homePage.passwordEnter.setText('')\n",
    "    \n",
    "\n",
    "def gotosignup():\n",
    "    homePage.close()\n",
    "    signupPage.show()\n",
    "    \n",
    "def backfromsignup():\n",
    "    signupPage.close()\n",
    "    homePage.show()\n",
    "    \n",
    "def register():\n",
    "    \n",
    "    cust_name = signupPage.name.text()\n",
    "    cust_password = signupPage.password.text()\n",
    "    cust_email = signupPage.email.text()\n",
    "    cust_phone = signupPage.phone.text()\n",
    "    cust_dob = signupPage.dob.text()\n",
    "    \n",
    "    cust_account_num = cust_dob.split('-')[0]+cust_dob.split('-')[1]+cust_dob.split('-')[2]+cust_phone[-5:]\n",
    "    \n",
    "    cust_Id = cust_account_num[:5]+cust_name[:5]\n",
    "    \n",
    "    con = sql.connect('demobank.db')\n",
    "    \n",
    "    query = \"\"\"INSERT INTO customer_details(cust_Id,cust_name,\n",
    "    cust_Account_num, cust_email, cust_phone, cust_password,\n",
    "    cust_dob,cust_balance) VALUES(?,?,?,?,?,?,?,?)\"\"\"\n",
    "    \n",
    "    con.execute(query,(cust_Id,cust_name,cust_account_num,cust_email,\n",
    "                      cust_phone,cust_password,cust_dob,\"2000.0\"))\n",
    "    con.commit()\n",
    "    con.close()\n",
    "    \n",
    "    signupPage.name.setText(\" \")\n",
    "    signupPage.password.setText(\" \")\n",
    "    signupPage.email.setText(\" \")\n",
    "    signupPage.phone.setText(\" \")\n",
    "    signupPage.dob.setText(\" \")\n",
    "    signupPage.message.setText('registration successful')\n",
    "\n",
    "def custlogout():\n",
    "    custDashboard.close()\n",
    "    homePage.usernameEnter.setText('')\n",
    "    homePage.passwordEnter.setText('')\n",
    "    homePage.show()"
   ]
  },
  {
   "cell_type": "code",
   "execution_count": 3,
   "metadata": {},
   "outputs": [
    {
     "data": {
      "text/plain": [
       "0"
      ]
     },
     "execution_count": 3,
     "metadata": {},
     "output_type": "execute_result"
    }
   ],
   "source": [
    "app = QtWidgets.QApplication([])\n",
    "\n",
    "homePage = uic.loadUi('home.ui')\n",
    "signupPage = uic.loadUi('signup.ui')\n",
    "custDashboard = uic.loadUi('custDashboard.ui')\n",
    "\n",
    "homePage.show()\n",
    "\n",
    "homePage.loginBut.clicked.connect(login)\n",
    "homePage.signupBut.clicked.connect(gotosignup)\n",
    "\n",
    "signupPage.back.clicked.connect(backfromsignup)\n",
    "signupPage.signup.clicked.connect(register)\n",
    "\n",
    "\n",
    "custDashboard.logout.clicked.connect(custlogout)\n",
    "app.exec()"
   ]
  },
  {
   "cell_type": "code",
   "execution_count": null,
   "metadata": {},
   "outputs": [],
   "source": []
  }
 ],
 "metadata": {
  "kernelspec": {
   "display_name": "Python 3",
   "language": "python",
   "name": "python3"
  },
  "language_info": {
   "codemirror_mode": {
    "name": "ipython",
    "version": 3
   },
   "file_extension": ".py",
   "mimetype": "text/x-python",
   "name": "python",
   "nbconvert_exporter": "python",
   "pygments_lexer": "ipython3",
   "version": "3.7.3"
  }
 },
 "nbformat": 4,
 "nbformat_minor": 2
}
